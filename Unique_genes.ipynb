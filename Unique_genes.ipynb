{
 "cells": [
  {
   "cell_type": "code",
   "execution_count": 1,
   "metadata": {},
   "outputs": [],
   "source": [
    "def combine_fasta_files(input_files, output_file):\n",
    "    with open(output_file, \"w\") as outfile:\n",
    "        for file in input_files:\n",
    "            try:\n",
    "                with open(file) as infile:\n",
    "                    outfile.write(infile.read())\n",
    "            except FileNotFoundError:\n",
    "                print(f\"File not found: {file}\")\n",
    "    print(f\"Combined nucleotide .ffn file saved to: {output_file}\")\n"
   ]
  },
  {
   "cell_type": "code",
   "execution_count": 2,
   "metadata": {},
   "outputs": [],
   "source": [
    "nucleotide_ffn_files = [\n",
    "    \"D:/AWAIS/Final/Pseudomonas_syringae.ffn\",\n",
    "    \"D:/AWAIS/Final/Erwinia_amylovora.ffn\",\n",
    "    \"D:/AWAIS/Final/Xanthomonas_oryzae.ffn\",\n",
    "    \"D:/AWAIS/Final/Klebsiella_aerogenes.ffn\",\n",
    "    \"D:/AWAIS/Final/Yersinia_pestis.ffn\",\n",
    "    \"D:/AWAIS/Final/Rickettsia_conorii.ffn\",\n",
    "    \"D:/AWAIS/Final/Mycobacterium_avium.ffn\",\n",
    "    \"D:/AWAIS/Final/Escherichia_coli.ffn\",\n",
    "    \"D:/AWAIS/Final/Streptococcus_pneumoniae.ffn\"\n",
    "]\n"
   ]
  },
  {
   "cell_type": "code",
   "execution_count": 3,
   "metadata": {},
   "outputs": [
    {
     "name": "stdout",
     "output_type": "stream",
     "text": [
      "Combined nucleotide .ffn file saved to: D:/AWAIS/Final/Combined_nucleotide_sequences.fnn\n"
     ]
    }
   ],
   "source": [
    "combined_ffn = \"D:/AWAIS/Final/Combined_nucleotide_sequences.fnn\"\n",
    "combine_fasta_files(nucleotide_ffn_files, combined_ffn)"
   ]
  },
  {
   "cell_type": "code",
   "execution_count": 4,
   "metadata": {},
   "outputs": [
    {
     "name": "stdout",
     "output_type": "stream",
     "text": [
      "Duplicates removed. Output saved to: D:/AWAIS/Final/Combine_no_duplicates.fnn\n"
     ]
    }
   ],
   "source": [
    "from Bio import SeqIO\n",
    "\n",
    "def remove_duplicates(input_fasta, output_fasta):\n",
    "    unique_sequences = {}\n",
    "    \n",
    "    for record in SeqIO.parse(input_fasta, \"fasta\"):\n",
    "        if record.id not in unique_sequences:\n",
    "            unique_sequences[record.id] = record\n",
    "    \n",
    "    with open(output_fasta, \"w\") as outfile:\n",
    "        SeqIO.write(unique_sequences.values(), outfile, \"fasta\")\n",
    "    \n",
    "    print(f\"Duplicates removed. Output saved to: {output_fasta}\")\n",
    "input_fasta = \"D:/AWAIS/Final/Combined_nucleotide_sequences.fnn\"\n",
    "output_fasta = \"D:/AWAIS/Final/Combine_no_duplicates.fnn\"\n",
    "remove_duplicates(input_fasta, output_fasta)\n"
   ]
  },
  {
   "cell_type": "code",
   "execution_count": 9,
   "metadata": {},
   "outputs": [
    {
     "name": "stdout",
     "output_type": "stream",
     "text": [
      "BLAST results saved to: D:/AWAIS/Final/blast_results.txt\n"
     ]
    }
   ],
   "source": [
    "import subprocess\n",
    "\n",
    "def run_blast(query_fasta, blast_db, output_file):\n",
    "    command = [\n",
    "        \"blastn\",\n",
    "        \"-query\", query_fasta,\n",
    "        \"-db\", blast_db,\n",
    "        \"-out\", output_file,\n",
    "        \"-outfmt\", \"6\",\n",
    "        \"-evalue\", \"1e-5\",\n",
    "        \"-perc_identity\", \"70\"\n",
    "    ]\n",
    "    subprocess.run(command, check=True)\n",
    "    print(f\"BLAST results saved to: {output_file}\")\n",
    "query_fasta = \"D:/AWAIS/New/Candidatus_Liberibacter_asiaticus.ffn\" \n",
    "blast_db = \"D:/AWAIS/Final/reference_db\"                          \n",
    "blast_output = \"D:/AWAIS/Final/blast_results.txt\"                   \n",
    "run_blast(query_fasta, blast_db, blast_output)\n"
   ]
  },
  {
   "cell_type": "code",
   "execution_count": 1,
   "metadata": {},
   "outputs": [
    {
     "name": "stdout",
     "output_type": "stream",
     "text": [
      "Unique genes saved to D:\\AWAIS\\Final\\unique_genes.fnn\n",
      "Summary report saved to D:\\AWAIS\\Final\\summary_report.txt\n"
     ]
    }
   ],
   "source": [
    "from Bio import SeqIO\n",
    "import pandas as pd\n",
    "blast_result_file = r\"D:\\AWAIS\\Final\\clas_vs_others.txt\"\n",
    "query_fasta_file = r\"D:\\AWAIS\\Final\\Candidatus_Liberibacter_asiaticus.ffn\"\n",
    "unique_genes_output_file = r\"D:\\AWAIS\\Final\\unique_genes.fnn\"\n",
    "summary_output_file = r\"D:\\AWAIS\\Final\\summary_report.txt\"\n",
    "def parse_blast_results(blast_file):\n",
    "    columns = [\n",
    "        \"query_id\", \"subject_id\", \"perc_identity\", \"alignment_length\",\n",
    "        \"mismatches\", \"gap_opens\", \"q_start\", \"q_end\",\n",
    "        \"s_start\", \"s_end\", \"e_value\", \"bit_score\"\n",
    "    ]\n",
    "    blast_df = pd.read_csv(blast_file, sep=\"\\t\", header=None, names=columns)\n",
    "    return blast_df\n",
    "def extract_unique_genes(blast_df, query_fasta, output_file):\n",
    "    # Get list of matched query IDs\n",
    "    matched_queries = set(blast_df[\"query_id\"].unique())\n",
    "    unique_sequences = []\n",
    "    total_queries = 0\n",
    "    with open(query_fasta, \"r\") as fasta_file:\n",
    "        for record in SeqIO.parse(fasta_file, \"fasta\"):\n",
    "            total_queries += 1\n",
    "            if record.id not in matched_queries:\n",
    "                unique_sequences.append(record)\n",
    "    with open(output_file, \"w\") as output_fasta:\n",
    "        SeqIO.write(unique_sequences, output_fasta, \"fasta\")\n",
    "\n",
    "    return total_queries, len(unique_sequences)\n",
    "def generate_summary_report(total_queries, matched_count, unique_count, output_file):\n",
    "    unmatched_count = total_queries - matched_count\n",
    "    with open(output_file, \"w\") as report:\n",
    "        report.write(\"BLAST Results Summary Report\\n\")\n",
    "        report.write(\"=============================\\n\")\n",
    "        report.write(f\"Total Query Sequences: {total_queries}\\n\")\n",
    "        report.write(f\"Matched Sequences: {matched_count}\\n\")\n",
    "        report.write(f\"Unique Sequences (No Match): {unique_count}\\n\")\n",
    "        report.write(f\"Unmatched Sequences: {unmatched_count}\\n\")\n",
    "    print(f\"Summary report saved to {output_file}\")\n",
    "if __name__ == \"__main__\":\n",
    "    blast_df = parse_blast_results(blast_result_file)\n",
    "    matched_count = blast_df[\"query_id\"].nunique()  # Number of unique matches\n",
    "    total_queries, unique_count = extract_unique_genes(blast_df, query_fasta_file, unique_genes_output_file)\n",
    "    print(f\"Unique genes saved to {unique_genes_output_file}\")\n",
    "    generate_summary_report(total_queries, matched_count, unique_count, summary_output_file)\n"
   ]
  },
  {
   "cell_type": "code",
   "execution_count": null,
   "metadata": {},
   "outputs": [],
   "source": []
  }
 ],
 "metadata": {
  "kernelspec": {
   "display_name": "Python 3",
   "language": "python",
   "name": "python3"
  },
  "language_info": {
   "codemirror_mode": {
    "name": "ipython",
    "version": 3
   },
   "file_extension": ".py",
   "mimetype": "text/x-python",
   "name": "python",
   "nbconvert_exporter": "python",
   "pygments_lexer": "ipython3",
   "version": "3.11.5"
  }
 },
 "nbformat": 4,
 "nbformat_minor": 2
}
